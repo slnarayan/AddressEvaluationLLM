{
  "nbformat": 4,
  "nbformat_minor": 0,
  "metadata": {
    "colab": {
      "provenance": [],
      "authorship_tag": "ABX9TyOWZF+JJgClQblXFvjPdMBP",
      "include_colab_link": true
    },
    "kernelspec": {
      "name": "python3",
      "display_name": "Python 3"
    },
    "language_info": {
      "name": "python"
    }
  },
  "cells": [
    {
      "cell_type": "markdown",
      "metadata": {
        "id": "view-in-github",
        "colab_type": "text"
      },
      "source": [
        "<a href=\"https://colab.research.google.com/github/slnarayan/AddressEvaluationLLM/blob/main/Utility.ipynb\" target=\"_parent\"><img src=\"https://colab.research.google.com/assets/colab-badge.svg\" alt=\"Open In Colab\"/></a>"
      ]
    },
    {
      "cell_type": "code",
      "execution_count": null,
      "metadata": {
        "id": "YIiJcBHGhalP"
      },
      "outputs": [],
      "source": [
        "import numpy as np\n",
        "import pandas as pd"
      ]
    },
    {
      "cell_type": "code",
      "source": [
        "dict_dtypes = {'zip' : 'str', 'zip_s' : 'str' }\n",
        "df = pd.read_csv('address.csv', dtype = dict_dtypes, keep_default_na = False)"
      ],
      "metadata": {
        "id": "bewAQmjGh6qr"
      },
      "execution_count": null,
      "outputs": []
    },
    {
      "cell_type": "code",
      "source": [
        "df['status']='yes'"
      ],
      "metadata": {
        "id": "4Ob5xgFAiL9L"
      },
      "execution_count": null,
      "outputs": []
    },
    {
      "cell_type": "code",
      "source": [
        "df.to_csv('address_verified.csv', encoding='utf-8')"
      ],
      "metadata": {
        "id": "mPEdAv2CitN8"
      },
      "execution_count": null,
      "outputs": []
    },
    {
      "cell_type": "code",
      "source": [],
      "metadata": {
        "id": "Ws5Okv8RnxUd"
      },
      "execution_count": null,
      "outputs": []
    }
  ]
}